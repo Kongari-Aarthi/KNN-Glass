{
 "cells": [
  {
   "cell_type": "code",
   "execution_count": 1,
   "id": "92d49ab8",
   "metadata": {},
   "outputs": [],
   "source": [
    "import pandas as pd\n",
    "df = pd.read_csv(\"glass.csv\")"
   ]
  },
  {
   "cell_type": "code",
   "execution_count": 2,
   "id": "47b40794",
   "metadata": {},
   "outputs": [
    {
     "data": {
      "text/plain": [
       "['RI', 'Na', 'Mg', 'Al', 'Si', 'K', 'Ca', 'Ba', 'Fe', 'Type']"
      ]
     },
     "execution_count": 2,
     "metadata": {},
     "output_type": "execute_result"
    }
   ],
   "source": [
    "df.shape\n",
    "list(df)"
   ]
  },
  {
   "cell_type": "code",
   "execution_count": 3,
   "id": "8067b9dd",
   "metadata": {},
   "outputs": [],
   "source": [
    "# step2 : split as x and y"
   ]
  },
  {
   "cell_type": "code",
   "execution_count": 4,
   "id": "f089eda2",
   "metadata": {},
   "outputs": [],
   "source": [
    "Y = df[\"Type\"]\n",
    "X = df.iloc[:,0:9]"
   ]
  },
  {
   "cell_type": "code",
   "execution_count": 5,
   "id": "c4102333",
   "metadata": {},
   "outputs": [],
   "source": [
    "# step3 : Applying the standardization\n",
    "from sklearn.preprocessing import StandardScaler  # Minmaxscaler\n",
    "SS = StandardScaler()\n",
    "X_scale = SS.fit_transform(X)"
   ]
  },
  {
   "cell_type": "code",
   "execution_count": 6,
   "id": "a94954d7",
   "metadata": {},
   "outputs": [],
   "source": [
    "# step4 :  Train and test split\n",
    "from sklearn.model_selection import train_test_split\n",
    "X_train,X_test, Y_train, Y_test  = train_test_split(X_scale,Y, test_size=0.3)\n"
   ]
  },
  {
   "cell_type": "code",
   "execution_count": 7,
   "id": "3cd26a1e",
   "metadata": {},
   "outputs": [],
   "source": [
    "# step5: model fitting\n",
    "from sklearn.neighbors import KNeighborsClassifier\n",
    "KNN = KNeighborsClassifier(n_neighbors=7, p=2)\n"
   ]
  },
  {
   "cell_type": "code",
   "execution_count": 8,
   "id": "2a076a31",
   "metadata": {},
   "outputs": [
    {
     "data": {
      "text/plain": [
       "KNeighborsClassifier(n_neighbors=7)"
      ]
     },
     "execution_count": 8,
     "metadata": {},
     "output_type": "execute_result"
    }
   ],
   "source": [
    "KNN.fit(X_train,Y_train)"
   ]
  },
  {
   "cell_type": "code",
   "execution_count": 9,
   "id": "800fff14",
   "metadata": {},
   "outputs": [
    {
     "name": "stderr",
     "output_type": "stream",
     "text": [
      "C:\\Users\\konga_21xqbnk\\anaconda3\\lib\\site-packages\\sklearn\\neighbors\\_classification.py:228: FutureWarning: Unlike other reduction functions (e.g. `skew`, `kurtosis`), the default behavior of `mode` typically preserves the axis it acts along. In SciPy 1.11.0, this behavior will change: the default value of `keepdims` will become False, the `axis` over which the statistic is taken will be eliminated, and the value None will no longer be accepted. Set `keepdims` to True or False to avoid this warning.\n",
      "  mode, _ = stats.mode(_y[neigh_ind, k], axis=1)\n",
      "C:\\Users\\konga_21xqbnk\\anaconda3\\lib\\site-packages\\sklearn\\neighbors\\_classification.py:228: FutureWarning: Unlike other reduction functions (e.g. `skew`, `kurtosis`), the default behavior of `mode` typically preserves the axis it acts along. In SciPy 1.11.0, this behavior will change: the default value of `keepdims` will become False, the `axis` over which the statistic is taken will be eliminated, and the value None will no longer be accepted. Set `keepdims` to True or False to avoid this warning.\n",
      "  mode, _ = stats.mode(_y[neigh_ind, k], axis=1)\n"
     ]
    }
   ],
   "source": [
    "Y_pred_train = KNN.predict(X_train)\n",
    "Y_pred_test =  KNN.predict(X_test)"
   ]
  },
  {
   "cell_type": "code",
   "execution_count": 10,
   "id": "900269e8",
   "metadata": {},
   "outputs": [
    {
     "name": "stdout",
     "output_type": "stream",
     "text": [
      "Accuracy score for Training data: 0.71\n",
      "Accuracy score for Test data: 0.57\n"
     ]
    }
   ],
   "source": [
    "# step6 : metrics\n",
    "from sklearn.metrics import accuracy_score\n",
    "ac1 = accuracy_score(Y_train,Y_pred_train)\n",
    "print(\"Accuracy score for Training data:\", ac1.round(2))\n",
    "ac2 = accuracy_score(Y_test,Y_pred_test)\n",
    "print(\"Accuracy score for Test data:\", ac2.round(2))"
   ]
  },
  {
   "cell_type": "code",
   "execution_count": null,
   "id": "f6cf3d9d",
   "metadata": {},
   "outputs": [],
   "source": []
  }
 ],
 "metadata": {
  "kernelspec": {
   "display_name": "Python 3 (ipykernel)",
   "language": "python",
   "name": "python3"
  },
  "language_info": {
   "codemirror_mode": {
    "name": "ipython",
    "version": 3
   },
   "file_extension": ".py",
   "mimetype": "text/x-python",
   "name": "python",
   "nbconvert_exporter": "python",
   "pygments_lexer": "ipython3",
   "version": "3.9.13"
  }
 },
 "nbformat": 4,
 "nbformat_minor": 5
}
